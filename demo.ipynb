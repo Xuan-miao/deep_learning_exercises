{
 "cells": [
  {
   "cell_type": "code",
   "execution_count": 1,
   "id": "initial_id",
   "metadata": {
    "collapsed": true,
    "ExecuteTime": {
     "end_time": "2023-10-23T08:31:45.804137Z",
     "start_time": "2023-10-23T08:31:44.258164900Z"
    }
   },
   "outputs": [],
   "source": [
    "import datetime\n",
    "\n",
    "import torch\n",
    "from torch import nn"
   ]
  },
  {
   "cell_type": "code",
   "execution_count": null,
   "outputs": [],
   "source": [
    "def training_loop(n_epochs, optimizer, model, loss_fn, train_loader,\n",
    "                  test_loader):\n",
    "    for epoch in range(1, n_epochs + 1):\n",
    "        loss_train = 0\n",
    "        for imgs, labels in train_loader:\n",
    "            outputs = model(imgs)\n",
    "            loss = loss_fn(outputs, labels)\n",
    "            optimizer.zero_grad()\n",
    "            loss.backward()\n",
    "            optimizer.step()\n",
    "            loss_train += loss.item()\n",
    "        if epoch == 1 or epoch % 10 == 0:\n",
    "            print(\n",
    "                f'{datetime.datetime.now()} Epoch {epoch}, Training loss {loss_train / len(train_loader)}')"
   ],
   "metadata": {
    "collapsed": false
   },
   "id": "346cbb7ff1bb8fea"
  },
  {
   "cell_type": "code",
   "execution_count": null,
   "outputs": [],
   "source": [
    "class Net(nn.Module):\n",
    "    def __init__(self):\n",
    "        super().__init__()\n",
    "        self.conv1 = nn.Conv2d(3, 16, kernel_size=3, padding=1)\n",
    "        self.conv2 = nn.Conv2d(16, 8, kernel_size=3, padding=1)\n",
    "        self.fc1 = nn.Linear(512, 32)\n",
    "        self.fc2 = nn.Linear(32, 2)\n",
    "    \n",
    "    def forward(self, x):\n",
    "        out = nn.MaxPool2d(2)(torch.tanh(self.conv1(x)))\n",
    "        out = nn.MaxPool2d(2)(torch.tanh(self.conv2(out)))\n",
    "        out = nn.Flatten()(out)\n",
    "        out = torch.tanh(self.fc2(out))\n",
    "        out = self.fc2(out)\n",
    "        return out\n",
    "        "
   ],
   "metadata": {
    "collapsed": false
   },
   "id": "c0996c1307125d27"
  },
  {
   "cell_type": "code",
   "execution_count": 2,
   "outputs": [
    {
     "data": {
      "text/plain": "(torch.Size([16, 3, 3, 3]), torch.Size([16]))"
     },
     "execution_count": 2,
     "metadata": {},
     "output_type": "execute_result"
    }
   ],
   "source": [
    "conv = nn.Conv2d(3, 16, kernel_size=3)\n",
    "conv.weight.shape, conv.bias.shape"
   ],
   "metadata": {
    "collapsed": false,
    "ExecuteTime": {
     "end_time": "2023-10-23T08:31:45.813741200Z",
     "start_time": "2023-10-23T08:31:45.804137Z"
    }
   },
   "id": "44c1ea8b4378c02b"
  }
 ],
 "metadata": {
  "kernelspec": {
   "display_name": "Python 3",
   "language": "python",
   "name": "python3"
  },
  "language_info": {
   "codemirror_mode": {
    "name": "ipython",
    "version": 2
   },
   "file_extension": ".py",
   "mimetype": "text/x-python",
   "name": "python",
   "nbconvert_exporter": "python",
   "pygments_lexer": "ipython2",
   "version": "2.7.6"
  }
 },
 "nbformat": 4,
 "nbformat_minor": 5
}
